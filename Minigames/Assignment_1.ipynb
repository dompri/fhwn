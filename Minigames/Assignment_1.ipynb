{
 "cells": [
  {
   "cell_type": "markdown",
   "metadata": {},
   "source": [
    "# Assignment 1 - Python coding warm up\n",
    "## Play with cookie"
   ]
  },
  {
   "cell_type": "markdown",
   "metadata": {},
   "source": [
    " Erstelle ein Spiel welches beim Start eine zufällig gewählte Ganzzahl zwischen 1 und 25 generiert. Der Benutzer soll dann mittels Aufruf einer geeigneten Methode eine Zahl eingeben können und das Programm teilt dem Benutzer mit ob die generierte Zahl höher oder niedriger ist. Der Benutzer soll maximal 5 Versuche haben die richtige Zahl zu finden.\n",
    "\n",
    "Nachdem der Benutzer die richtige Zahl gefunden hat bekommt dieser einen Keks (Textausgabe). Sollte dies nicht gelingen, ermuntere Ihn es nochmals zu versuchen, wobei das Spiel dann von neuem beginnen soll."
   ]
  },
  {
   "cell_type": "code",
   "execution_count": 1,
   "metadata": {
    "collapsed": true
   },
   "outputs": [],
   "source": [
    "# function that is called in case the player guesses the right number\n",
    "def give_cookie():\n",
    "    print(\"Have your cookie\")"
   ]
  },
  {
   "cell_type": "code",
   "execution_count": 2,
   "metadata": {
    "collapsed": true
   },
   "outputs": [],
   "source": [
    "# import random int generator\n",
    "from random import randint\n",
    "\n",
    "# assign the random int generator to a function to reuse it\n",
    "def generate_number():\n",
    "    output = randint(1,25)\n",
    "    return output"
   ]
  },
  {
   "cell_type": "code",
   "execution_count": 3,
   "metadata": {
    "collapsed": true
   },
   "outputs": [],
   "source": [
    "# function that compares the random int generators and the players numbers\n",
    "# state is used to return whether the numbers are equal or not\n",
    "\n",
    "def compare_numbers(guess, target):\n",
    "    compare_numbers.answer = \"Hint: \"\n",
    "    state = False\n",
    "\n",
    "    if guess == target:\n",
    "        compare_numbers.answer = f\"Congrats! You picked the right number. {guess} is the right guess! \"\n",
    "        state = True\n",
    "    elif guess > target:\n",
    "        compare_numbers.answer += \"The target number is smaller than your chosen number... \\n ----------------------------------------------------------------\"\n",
    "        state = False\n",
    "    elif guess < target:\n",
    "        compare_numbers.answer += \"The target number is greater than your chosen number... \\n ----------------------------------------------------------------\"\n",
    "        state = False\n",
    "\n",
    "    return state"
   ]
  },
  {
   "cell_type": "code",
   "execution_count": 4,
   "metadata": {
    "collapsed": true
   },
   "outputs": [],
   "source": [
    "import time\n",
    "\n",
    "def play_game():\n",
    "\n",
    "    counter = 0\n",
    "    target_number = generate_number()\n",
    "\n",
    "    while counter < 6:\n",
    "        counter += 1\n",
    "\n",
    "        # time.sleep is needed in Dataspell to get the input field working\n",
    "        time.sleep(.4)\n",
    "        chosen_number = int(input(\"Choose a number between 1 and 25\"))\n",
    "        # condition is used as a variable that holds the state of the comparison for each input\n",
    "        condition = compare_numbers(chosen_number, target_number)\n",
    "\n",
    "        # turn on/off cheat by removing the hash tag below\n",
    "        # print(target_number)\n",
    "\n",
    "        print(f\"Your input: {chosen_number}.\")\n",
    "\n",
    "        # in case the player guessed right, he gets a cookie\n",
    "        if condition is True:\n",
    "            print(compare_numbers.answer)\n",
    "            give_cookie()\n",
    "            break\n",
    "\n",
    "        # if the player reached the max tries, the game will discontinue\n",
    "        elif condition is False and counter == 5:\n",
    "            return \"Oh noooo, false again.... You lost the game. No more tries left\"\n",
    "\n",
    "        elif condition is False:\n",
    "            print(f\"False guess! Try again, you have {5 - counter} try/tries left.\")\n",
    "            print(compare_numbers.answer)\n",
    "\n"
   ]
  },
  {
   "cell_type": "code",
   "execution_count": 5,
   "outputs": [
    {
     "name": "stdout",
     "output_type": "stream",
     "text": [
      "Your input: 4.\n",
      "False guess! Try again, you have 4 try/tries left.\n",
      "Hint: The target number is greater than your chosen number... \n",
      " ----------------------------------------------------------------\n",
      "Your input: 7.\n",
      "False guess! Try again, you have 3 try/tries left.\n",
      "Hint: The target number is greater than your chosen number... \n",
      " ----------------------------------------------------------------\n",
      "Your input: 8.\n",
      "False guess! Try again, you have 2 try/tries left.\n",
      "Hint: The target number is greater than your chosen number... \n",
      " ----------------------------------------------------------------\n",
      "Your input: 10.\n",
      "False guess! Try again, you have 1 try/tries left.\n",
      "Hint: The target number is greater than your chosen number... \n",
      " ----------------------------------------------------------------\n",
      "Your input: 20.\n",
      "Congrats! You picked the right number. 20 is the right guess! \n",
      "Have your cookie\n"
     ]
    }
   ],
   "source": [
    "play_game()"
   ],
   "metadata": {
    "collapsed": false,
    "pycharm": {
     "name": "#%%\n"
    }
   }
  },
  {
   "cell_type": "code",
   "execution_count": 5,
   "outputs": [],
   "source": [],
   "metadata": {
    "collapsed": false,
    "pycharm": {
     "name": "#%%\n"
    }
   }
  },
  {
   "cell_type": "markdown",
   "metadata": {},
   "source": [
    "\n",
    "## Schere, Stein, Papier\n",
    "\n",
    "Erstelle ein Python Programm welches das Spiel „Schere Stein Papier“ emuliert.\n",
    "\n",
    "\n",
    "Das Programm soll den Benutzer fragen welche Option Spieler 1 bzw. Spieler 2 wählt (Mögliche Optionen sind \"Schere\", \"Stein\", \"Papier\"). (Dies kann auch über direktes aufrufen von Klassen geschehen)\n",
    "\n",
    "Danach soll das Programm den Gewinner ausgeben. Sollte es keinen Gewinner geben, soll \"Unentschieden\" ausgegeben werden.\n",
    "\n",
    "Wenn der Benutzer etwas Anderes eingibt als o.a. Optionen soll das Programm einen Fehler ausgeben, der besagt, dass dies keine gültige Option ist. Er/Sie möge doch eine der drei Optionen verwenden.\n",
    "\n",
    " \n",
    "\n",
    "Tipp: Erstelle eine Klasse „Spieler“ welche ein Parameter übernimmt („Schere“....)\n",
    "\n",
    "Überprüfe in der Klasse ob der Parameter gültig ist.\n",
    "\n",
    "**Optional extra points (+3) ** <br />\n",
    "Extend *Rock, paper, scissors* with *lizard, Spock*! \n",
    "For more information visit: https://www.youtube.com/watch?v=x5Q6-wMx-K8\n",
    "![Game](game.webp)"
   ]
  },
  {
   "cell_type": "code",
   "execution_count": 6,
   "metadata": {
    "collapsed": true
   },
   "outputs": [],
   "source": [
    "class Player:\n",
    "    __option = None\n",
    "\n",
    "    # valid input options for the game\n",
    "    options = [\"rock\", \"paper\", \"scissors\", \"lizard\", \"spock\"]\n",
    "\n",
    "    # constructor, which receives option\n",
    "    def __init__(self, name, __option):\n",
    "        self.name = name\n",
    "        self.__option = __option.lower()\n",
    "\n",
    "        # in case the user selected an invalid option he should be provided with valid options and asked to input again\n",
    "        # the name can be reused again\n",
    "        if __option.lower() not in self.options:\n",
    "            self.__init__(self.name, input(f\"Sorry, this input is invalid. Try one of these options: {self.options}\"))\n",
    "\n",
    "\n",
    "    # private setter for option\n",
    "    def set_option(self, option):\n",
    "        self.__option = option\n",
    "\n",
    "    # public getter\n",
    "    def get_option(self):\n",
    "        return self.__option\n",
    "\n",
    "\n",
    "class Game:\n",
    "\n",
    "    # congratulation message that can be modified afterwards\n",
    "    cong = \"Congrats!\"\n",
    "\n",
    "    # create constructor for the game with the constraint that two players are needed to start the game\n",
    "    def __init__(self, player_one, player_two):\n",
    "        self.player_one = player_one\n",
    "        self.player_two = player_two\n",
    "\n",
    "    # what should happen if player one wins\n",
    "    def p_1_wins(self):\n",
    "        return print(f\"{player_1.name} wins! \" + self.cong)\n",
    "\n",
    "    # what should happen if player two wins\n",
    "    def p_2_wins(self):\n",
    "        return print(f\"{player_2.name} wins! \" + self.cong)\n",
    "\n",
    "    # function which defines the rules of the game\n",
    "    def play(self):\n",
    "        if self.player_one.get_option() == self.player_two.get_option():\n",
    "            return print(\"It's a tie!\")\n",
    "\n",
    "        elif self.player_one.get_option() == \"rock\":\n",
    "            if self.player_two.get_option() == \"paper\" or self.player_two.get_option() == \"spock\":\n",
    "                self.p_2_wins()\n",
    "            else:\n",
    "                self.p_1_wins()\n",
    "\n",
    "        elif self.player_one.get_option() == \"paper\":\n",
    "            if self.player_two.get_option() == \"scissors\" or self.player_two.get_option() == \"lizard\":\n",
    "                self.p_2_wins()\n",
    "            else:\n",
    "                self.p_1_wins()\n",
    "\n",
    "        elif self.player_one.get_option() == \"scissors\":\n",
    "            if self.player_two.get_option() == \"rock\" or self.player_two.get_option() == \"spock\":\n",
    "                self.p_2_wins()\n",
    "            else:\n",
    "                 self.p_1_wins()\n",
    "\n",
    "        elif self.player_one.get_option() == \"lizard\":\n",
    "            if self.player_two.get_option() == \"rock\" or self.player_two.get_option() == \"scissors\":\n",
    "                self.p_2_wins()\n",
    "            else:\n",
    "                self.p_1_wins()\n",
    "\n",
    "        elif self.player_one.get_option() == \"spock\":\n",
    "            if self.player_two.get_option() == \"paper\" or self.player_two.get_option() == \"lizard\":\n",
    "                self.p_2_wins()\n",
    "            else:\n",
    "                self.p_1_wins()"
   ]
  },
  {
   "cell_type": "code",
   "execution_count": 13,
   "metadata": {
    "collapsed": true
   },
   "outputs": [],
   "source": [
    "# initialize player one and his option\n",
    "player_1 = Player(input(\"Hello Player and welcome to the Game! What's your name?\"), input(\"Rock, Paper, Scissors, Lizard, Spock! Player, please choose your option:\"))"
   ]
  },
  {
   "cell_type": "code",
   "execution_count": 14,
   "outputs": [],
   "source": [
    "# initialize player two and his option\n",
    "player_2 = Player(input(\"Hello Player and welcome to the Game! What's your name?\"), input(\"Rock, Paper, Scissors, Lizard, Spock! Player, please choose your option:\"))"
   ],
   "metadata": {
    "collapsed": false,
    "pycharm": {
     "name": "#%%\n"
    }
   }
  },
  {
   "cell_type": "code",
   "execution_count": 15,
   "outputs": [
    {
     "data": {
      "text/plain": "'lizard'"
     },
     "execution_count": 15,
     "metadata": {},
     "output_type": "execute_result"
    }
   ],
   "source": [
    "# return selected option for player one\n",
    "player_1.get_option()"
   ],
   "metadata": {
    "collapsed": false,
    "pycharm": {
     "name": "#%%\n"
    }
   }
  },
  {
   "cell_type": "code",
   "execution_count": 16,
   "outputs": [
    {
     "data": {
      "text/plain": "'spock'"
     },
     "execution_count": 16,
     "metadata": {},
     "output_type": "execute_result"
    }
   ],
   "source": [
    "# return selected option for player two\n",
    "player_2.get_option()"
   ],
   "metadata": {
    "collapsed": false,
    "pycharm": {
     "name": "#%%\n"
    }
   }
  },
  {
   "cell_type": "code",
   "execution_count": 17,
   "outputs": [],
   "source": [
    "# create game instance\n",
    "game = Game(player_1, player_2)"
   ],
   "metadata": {
    "collapsed": false,
    "pycharm": {
     "name": "#%%\n"
    }
   }
  },
  {
   "cell_type": "code",
   "execution_count": 18,
   "outputs": [
    {
     "name": "stdout",
     "output_type": "stream",
     "text": [
      "Dominique wins! Congrats!\n"
     ]
    }
   ],
   "source": [
    "# start the game\n",
    "game.play()"
   ],
   "metadata": {
    "collapsed": false,
    "pycharm": {
     "name": "#%%\n"
    }
   }
  }
 ],
 "metadata": {
  "anaconda-cloud": {},
  "coursera": {
   "course_slug": "python-data-analysis",
   "graded_item_id": "tHmgx",
   "launcher_item_id": "Um6Bz",
   "part_id": "OQsnr"
  },
  "kernelspec": {
   "display_name": "Python 3",
   "language": "python",
   "name": "python3"
  },
  "language_info": {
   "codemirror_mode": {
    "name": "ipython",
    "version": 3
   },
   "file_extension": ".py",
   "mimetype": "text/x-python",
   "name": "python",
   "nbconvert_exporter": "python",
   "pygments_lexer": "ipython3",
   "version": "3.7.8"
  }
 },
 "nbformat": 4,
 "nbformat_minor": 1
}